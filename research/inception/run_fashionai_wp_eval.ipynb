{
 "cells": [
  {
   "cell_type": "code",
   "execution_count": 1,
   "metadata": {
    "collapsed": true
   },
   "outputs": [],
   "source": [
    "import os,sys"
   ]
  },
  {
   "cell_type": "code",
   "execution_count": 2,
   "metadata": {
    "collapsed": true
   },
   "outputs": [],
   "source": [
    "# Directory where we saved the fine-tuned checkpoint and events files\n",
    "TRAIN_DIR = '/mnt/lvmhdd/tanfulun/workspaces/Data/FashionAI/tf_format_dataset/warming_up_dataset/result/train'\n",
    "\n",
    "# Directory where the testSet data resides\n",
    "EVAL_DATA_DIR='/mnt/lvmhdd/tanfulun/workspaces/Data/FashionAI/tf_format_dataset/warming_up_dataset/tfrecord_format'\n",
    "\n",
    "# Directory where to save the evaluation events files.\n",
    "TRAIN_EVAL_DIR='/mnt/lvmhdd/tanfulun/workspaces/Data/FashionAI/tf_format_dataset/warming_up_dataset/result/train_eval'\n",
    "VAL_EVAL_DIR='/mnt/lvmhdd/tanfulun/workspaces/Data/FashionAI/tf_format_dataset/warming_up_dataset/result/val_eval'"
   ]
  },
  {
   "cell_type": "code",
   "execution_count": 3,
   "metadata": {},
   "outputs": [
    {
     "data": {
      "text/plain": [
       "0"
      ]
     },
     "execution_count": 3,
     "metadata": {},
     "output_type": "execute_result"
    }
   ],
   "source": [
    "# run evaluation on validating-set\n",
    "os.system('bazel build //inception:flowers_eval')\n",
    "os.system('bazel-bin/inception/flowers_eval \\\n",
    "  --eval_dir=%s \\\n",
    "  --data_dir=%s \\\n",
    "  --subset=train \\\n",
    "  --num_examples=18333 \\\n",
    "  --checkpoint_dir=%s \\\n",
    "  --input_queue_memory_factor=8 \\\n",
    "  --run_once'%(TRAIN_EVAL_DIR,EVAL_DATA_DIR,TRAIN_DIR))"
   ]
  },
  {
   "cell_type": "code",
   "execution_count": null,
   "metadata": {
    "collapsed": true
   },
   "outputs": [],
   "source": [
    "# run evaluation on training-set\n",
    "os.system('bazel build //inception:flowers_eval')\n",
    "os.system('bazel-bin/inception/flowers_eval \\\n",
    "  --eval_dir=%s \\\n",
    "  --data_dir=%s \\\n",
    "  --subset=validation \\\n",
    "  --num_examples=1000 \\\n",
    "  --checkpoint_dir=%s \\\n",
    "  --input_queue_memory_factor=1 \\\n",
    "  --run_once'%(VAL_EVAL_DIR,EVAL_DATA_DIR,TRAIN_DIR))"
   ]
  },
  {
   "cell_type": "code",
   "execution_count": null,
   "metadata": {
    "collapsed": true
   },
   "outputs": [],
   "source": []
  }
 ],
 "metadata": {
  "kernelspec": {
   "display_name": "Python 2",
   "language": "python",
   "name": "python2"
  },
  "language_info": {
   "codemirror_mode": {
    "name": "ipython",
    "version": 2
   },
   "file_extension": ".py",
   "mimetype": "text/x-python",
   "name": "python",
   "nbconvert_exporter": "python",
   "pygments_lexer": "ipython2",
   "version": "2.7.5"
  }
 },
 "nbformat": 4,
 "nbformat_minor": 2
}
