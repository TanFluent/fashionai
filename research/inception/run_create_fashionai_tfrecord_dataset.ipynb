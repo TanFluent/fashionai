{
 "cells": [
  {
   "cell_type": "code",
   "execution_count": 1,
   "metadata": {
    "collapsed": true
   },
   "outputs": [],
   "source": [
    "import os,sys"
   ]
  },
  {
   "cell_type": "code",
   "execution_count": 2,
   "metadata": {
    "collapsed": true
   },
   "outputs": [],
   "source": [
    "# Directory where we store the raw JPEG/jpg format data\n",
    "TRAIN_RAW_DATA_DIR = '/mnt/lvmhdd/tanfulun/workspaces/Data/FashionAI/tf_format_dataset/fashionai_dataset/train'\n",
    "VAL_RAW_DATA_DIR = '/mnt/lvmhdd/tanfulun/workspaces/Data/FashionAI/tf_format_dataset/fashionai_dataset/val'\n",
    "\n",
    "# Directory where we store the tfrecord format data\n",
    "OUTPUT_DIR = '/mnt/lvmhdd/tanfulun/workspaces/Data/FashionAI/tf_format_dataset/fashionai_dataset/tfrecord_format'\n",
    "\n",
    "# Directory where we store the label_file.txt\n",
    "LABEL_FILE = '/mnt/lvmhdd/tanfulun/workspaces/Data/FashionAI/tf_format_dataset/fashionai_dataset/label_file.txt'"
   ]
  },
  {
   "cell_type": "code",
   "execution_count": 3,
   "metadata": {},
   "outputs": [
    {
     "data": {
      "text/plain": [
       "0"
      ]
     },
     "execution_count": 3,
     "metadata": {},
     "output_type": "execute_result"
    }
   ],
   "source": [
    "os.system('bazel build //inception:build_image_data')"
   ]
  },
  {
   "cell_type": "code",
   "execution_count": 4,
   "metadata": {},
   "outputs": [
    {
     "data": {
      "text/plain": [
       "0"
      ]
     },
     "execution_count": 4,
     "metadata": {},
     "output_type": "execute_result"
    }
   ],
   "source": [
    "os.system('bazel-bin/inception/build_image_data \\\n",
    "          --train_directory=%s \\\n",
    "          --validation_directory=%s \\\n",
    "          --output_directory=%s \\\n",
    "          --labels_file=%s \\\n",
    "          --train_shards=128 \\\n",
    "          --validation_shards=24 \\\n",
    "          --num_threads=8'%(TRAIN_RAW_DATA_DIR,VAL_RAW_DATA_DIR,OUTPUT_DIR,LABEL_FILE))"
   ]
  },
  {
   "cell_type": "code",
   "execution_count": null,
   "metadata": {
    "collapsed": true
   },
   "outputs": [],
   "source": []
  }
 ],
 "metadata": {
  "kernelspec": {
   "display_name": "Python 2",
   "language": "python",
   "name": "python2"
  },
  "language_info": {
   "codemirror_mode": {
    "name": "ipython",
    "version": 2
   },
   "file_extension": ".py",
   "mimetype": "text/x-python",
   "name": "python",
   "nbconvert_exporter": "python",
   "pygments_lexer": "ipython2",
   "version": "2.7.5"
  }
 },
 "nbformat": 4,
 "nbformat_minor": 2
}
