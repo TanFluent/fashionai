{
 "cells": [
  {
   "cell_type": "code",
   "execution_count": 1,
   "metadata": {
    "collapsed": true
   },
   "outputs": [],
   "source": [
    "import os,sys"
   ]
  },
  {
   "cell_type": "code",
   "execution_count": 2,
   "metadata": {
    "collapsed": true
   },
   "outputs": [],
   "source": [
    "# Directory where we saved the fine-tuned checkpoint and events files\n",
    "TRAIN_DIR = '/mnt/lvmhdd/tanfulun/workspaces/Data/FashionAI/tf_format_dataset/fashionai_dataset/result/train'\n",
    "\n",
    "# Directory where the tfrecord format data resides.\n",
    "TFRECORD_DATA_DIR='/mnt/lvmhdd/tanfulun/workspaces/Data/FashionAI/tf_format_dataset/fashionai_dataset/tfrecord_format'\n",
    "\n",
    "# Path to the downloaded Inception-v3 model.\n",
    "PRETRAIN_MODEL_PATH = '/mnt/lvmhdd/tanfulun/workspaces/Project/tensorflow_official/models/research/inception/inception-v3-model/inception-v3/model.ckpt-157585'\n",
    "\n",
    "# Directory where the testSet data resides\n",
    "EVAL_DATA_DIR='/mnt/lvmhdd/tanfulun/workspaces/Data/FashionAI/tf_format_dataset/warming_up_dataset/tfrecord_format'\n",
    "\n",
    "# Directory where to save the evaluation events files.\n",
    "TRAIN_EVAL_DIR='/mnt/lvmhdd/tanfulun/workspaces/Data/FashionAI/tf_format_dataset/warming_up_dataset/result/train_eval'\n",
    "VAL_EVAL_DIR='/mnt/lvmhdd/tanfulun/workspaces/Data/FashionAI/tf_format_dataset/warming_up_dataset/result/val_eval'"
   ]
  },
  {
   "cell_type": "code",
   "execution_count": null,
   "metadata": {},
   "outputs": [],
   "source": [
    "# run evaluation on validating-set\n",
    "os.system('bazel build //inception:flowers_train')\n",
    "os.system('bazel-bin/inception/flowers_train \\\n",
    "  --train_dir=%s \\\n",
    "  --data_dir=%s \\\n",
    "  --pretrained_model_checkpoint_path=%s \\\n",
    "  --fine_tune=True \\\n",
    "  --initial_learning_rate=0.001 \\\n",
    "  --max_steps=20000 \\\n",
    "  --num_gpus=2'%(TRAIN_DIR,TFRECORD_DATA_DIR,PRETRAIN_MODEL_PATH))"
   ]
  },
  {
   "cell_type": "code",
   "execution_count": null,
   "metadata": {
    "collapsed": true
   },
   "outputs": [],
   "source": []
  }
 ],
 "metadata": {
  "kernelspec": {
   "display_name": "Python 2",
   "language": "python",
   "name": "python2"
  },
  "language_info": {
   "codemirror_mode": {
    "name": "ipython",
    "version": 2
   },
   "file_extension": ".py",
   "mimetype": "text/x-python",
   "name": "python",
   "nbconvert_exporter": "python",
   "pygments_lexer": "ipython2",
   "version": "2.7.5"
  }
 },
 "nbformat": 4,
 "nbformat_minor": 2
}
